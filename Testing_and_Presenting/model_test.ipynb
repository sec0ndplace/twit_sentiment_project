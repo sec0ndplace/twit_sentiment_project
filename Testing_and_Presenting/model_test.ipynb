{
 "cells": [
  {
   "cell_type": "markdown",
   "metadata": {
    "slideshow": {
     "slide_type": "slide"
    }
   },
   "source": [
    "## Create Model from Saved Data, Split into Test and Train"
   ]
  },
  {
   "cell_type": "code",
   "execution_count": 2,
   "metadata": {
    "slideshow": {
     "slide_type": "skip"
    }
   },
   "outputs": [
    {
     "name": "stderr",
     "output_type": "stream",
     "text": [
      "/home/two/.pyenv/versions/3.9.6/lib/python3.9/site-packages/xgboost/compat.py:36: FutureWarning: pandas.Int64Index is deprecated and will be removed from pandas in a future version. Use pandas.Index with the appropriate dtype instead.\n",
      "  from pandas import MultiIndex, Int64Index\n"
     ]
    }
   ],
   "source": [
    "import sys\n",
    "sys.path.append('../app/')\n",
    "\n",
    "import os\n",
    "import pandas as pd\n",
    "import preprocessor as prepro\n",
    "import matplotlib.pyplot as plt\n",
    "import seaborn as sns\n",
    "import numpy as np\n",
    "import joblib\n",
    "\n",
    "from dotenv import load_dotenv, find_dotenv\n",
    "from sklearn.model_selection import train_test_split\n",
    "from sklearn.metrics import confusion_matrix, classification_report\n",
    "\n",
    "from twitter import *\n",
    "from sentiment import *\n",
    "from model import *\n",
    "from db import *\n",
    "\n",
    "from xgboost import XGBRegressor\n",
    "from sklearn.model_selection import cross_val_score\n"
   ]
  },
  {
   "cell_type": "code",
   "execution_count": 21,
   "metadata": {
    "slideshow": {
     "slide_type": "-"
    }
   },
   "outputs": [
    {
     "name": "stderr",
     "output_type": "stream",
     "text": [
      "/home/two/Stat495/finalproj/Testing_and_Presenting/../app/model.py:10: SettingWithCopyWarning: \n",
      "A value is trying to be set on a copy of a slice from a DataFrame.\n",
      "Try using .loc[row_indexer,col_indexer] = value instead\n",
      "\n",
      "See the caveats in the documentation: https://pandas.pydata.org/pandas-docs/stable/user_guide/indexing.html#returning-a-view-versus-a-copy\n",
      "  grouped_tweets['prev_price'] = grouped_tweets['prices'].shift(-1, axis = 0)\n",
      "/home/two/.pyenv/versions/3.9.6/lib/python3.9/site-packages/xgboost/data.py:262: FutureWarning: pandas.Int64Index is deprecated and will be removed from pandas in a future version. Use pandas.Index with the appropriate dtype instead.\n",
      "  elif isinstance(data.columns, (pd.Int64Index, pd.RangeIndex)):\n"
     ]
    },
    {
     "data": {
      "text/plain": [
       "193"
      ]
     },
     "execution_count": 21,
     "metadata": {},
     "output_type": "execute_result"
    }
   ],
   "source": [
    "load_dotenv('../app/.env') #my env is untracked (has my tokens)\n",
    "pg_data = PG_Data()\n",
    "os.chdir('../app/')\n",
    "all_data = pg_data.get_all_data()\n",
    "#all_data = all_data.drop(['index'], axis=1)\n",
    "\n",
    "all_data['prev_price'] = all_data['prices'].shift(-1, axis = 0)\n",
    "all_data = all_data.dropna()\n",
    "\n",
    "#training_data, testing_data = train_test_split(all_data, test_size=0.3)\n",
    "training_data = all_data.head(150)\n",
    "testing_data = all_data.tail(43)\n",
    "training_data.drop(['prices'], axis=1)\n",
    "create_and_pickle_model(training_data)\n",
    "len(all_data)"
   ]
  },
  {
   "cell_type": "markdown",
   "metadata": {
    "slideshow": {
     "slide_type": "slide"
    }
   },
   "source": [
    "## Predict for test data"
   ]
  },
  {
   "cell_type": "code",
   "execution_count": 22,
   "metadata": {},
   "outputs": [
    {
     "name": "stderr",
     "output_type": "stream",
     "text": [
      "/home/two/.pyenv/versions/3.9.6/lib/python3.9/site-packages/xgboost/data.py:262: FutureWarning: pandas.Int64Index is deprecated and will be removed from pandas in a future version. Use pandas.Index with the appropriate dtype instead.\n",
      "  elif isinstance(data.columns, (pd.Int64Index, pd.RangeIndex)):\n",
      "/home/two/.pyenv/versions/3.9.6/lib/python3.9/site-packages/xgboost/data.py:262: FutureWarning: pandas.Int64Index is deprecated and will be removed from pandas in a future version. Use pandas.Index with the appropriate dtype instead.\n",
      "  elif isinstance(data.columns, (pd.Int64Index, pd.RangeIndex)):\n",
      "/home/two/.pyenv/versions/3.9.6/lib/python3.9/site-packages/xgboost/data.py:262: FutureWarning: pandas.Int64Index is deprecated and will be removed from pandas in a future version. Use pandas.Index with the appropriate dtype instead.\n",
      "  elif isinstance(data.columns, (pd.Int64Index, pd.RangeIndex)):\n",
      "/home/two/.pyenv/versions/3.9.6/lib/python3.9/site-packages/xgboost/data.py:262: FutureWarning: pandas.Int64Index is deprecated and will be removed from pandas in a future version. Use pandas.Index with the appropriate dtype instead.\n",
      "  elif isinstance(data.columns, (pd.Int64Index, pd.RangeIndex)):\n",
      "/home/two/.pyenv/versions/3.9.6/lib/python3.9/site-packages/xgboost/data.py:262: FutureWarning: pandas.Int64Index is deprecated and will be removed from pandas in a future version. Use pandas.Index with the appropriate dtype instead.\n",
      "  elif isinstance(data.columns, (pd.Int64Index, pd.RangeIndex)):\n"
     ]
    },
    {
     "name": "stdout",
     "output_type": "stream",
     "text": [
      "[ 60.48537321  20.18958455  40.88121364  53.07874531 157.85079805]\n"
     ]
    }
   ],
   "source": [
    "X = all_data.drop(['prices', 'timestamp'], axis=1)\n",
    "y = all_data['prices']\n",
    "\n",
    "scores = cross_val_score(XGBRegressor(), X, y, scoring='neg_mean_squared_error')\n",
    "scores\n",
    "print((-scores)**0.5)\n"
   ]
  },
  {
   "cell_type": "code",
   "execution_count": 10,
   "metadata": {},
   "outputs": [],
   "source": [
    "\n",
    "# X = training_data.drop(['prices', 'timestamp'], axis=1)\n",
    "# y = training_data['prices']\n",
    "# model = XGBRegressor()\n",
    "# model.fit(X,y)"
   ]
  },
  {
   "cell_type": "code",
   "execution_count": 23,
   "metadata": {},
   "outputs": [
    {
     "name": "stderr",
     "output_type": "stream",
     "text": [
      "/home/two/.pyenv/versions/3.9.6/lib/python3.9/site-packages/xgboost/data.py:262: FutureWarning: pandas.Int64Index is deprecated and will be removed from pandas in a future version. Use pandas.Index with the appropriate dtype instead.\n",
      "  elif isinstance(data.columns, (pd.Int64Index, pd.RangeIndex)):\n"
     ]
    }
   ],
   "source": [
    "model = joblib.load('../app/TwitSentModel_jlib')\n",
    "y = testing_data['prices']\n",
    "predictme = testing_data.drop(['prices', 'timestamp'], axis = 1)\n",
    "pred = model.predict(predictme)"
   ]
  },
  {
   "cell_type": "markdown",
   "metadata": {},
   "source": [
    "## Plot Feature importance\n"
   ]
  },
  {
   "cell_type": "code",
   "execution_count": 24,
   "metadata": {},
   "outputs": [
    {
     "data": {
      "text/plain": [
       "Text(0, 0.5, 'Features')"
      ]
     },
     "execution_count": 24,
     "metadata": {},
     "output_type": "execute_result"
    },
    {
     "data": {
      "image/png": "[encoded data removed]",
      "text/plain": [
       "<Figure size 720x576 with 1 Axes>"
      ]
     },
     "metadata": {
      "needs_background": "light"
     },
     "output_type": "display_data"
    }
   ],
   "source": [
    "# source for plot code : https://www.analyseup.com/learn-python-for-data-science/python-random-forest-feature-importance-plot.html\n",
    "\n",
    "#This feature importance is kind of garbage - probably because my model is garbage\n",
    "\n",
    "#Create arrays from feature importance and feature names\n",
    "feature_importance = np.array(model.feature_importances_)\n",
    "feature_names = np.array(predictme.columns)\n",
    "\n",
    "#Create a DataFrame using a Dictionary\n",
    "data={'feature_names':feature_names,'feature_importance':feature_importance}\n",
    "fi_df = pd.DataFrame(data)\n",
    "\n",
    "#Sort the DataFrame in order decreasing feature importance\n",
    "fi_df.sort_values(by=['feature_importance'], ascending=False,inplace=True)\n",
    "\n",
    "#Define size of bar plot\n",
    "plt.figure(figsize=(10,8))\n",
    "#Plot Searborn bar chart\n",
    "sns.barplot(x=fi_df['feature_importance'], y=fi_df['feature_names'])\n",
    "#Add chart labels\n",
    "plt.title('Feature Importance')\n",
    "plt.xlabel('Feature Importance')\n",
    "plt.ylabel('Features')"
   ]
  },
  {
   "cell_type": "markdown",
   "metadata": {},
   "source": [
    "## Plot yhat and y"
   ]
  },
  {
   "cell_type": "code",
   "execution_count": 25,
   "metadata": {},
   "outputs": [
    {
     "name": "stderr",
     "output_type": "stream",
     "text": [
      "/tmp/ipykernel_19150/1795094866.py:1: SettingWithCopyWarning: \n",
      "A value is trying to be set on a copy of a slice from a DataFrame.\n",
      "Try using .loc[row_indexer,col_indexer] = value instead\n",
      "\n",
      "See the caveats in the documentation: https://pandas.pydata.org/pandas-docs/stable/user_guide/indexing.html#returning-a-view-versus-a-copy\n",
      "  testing_data['predicted'] = pred\n"
     ]
    },
    {
     "data": {
      "image/png": "[encoded data removed]",
      "text/plain": [
       "<Figure size 432x288 with 2 Axes>"
      ]
     },
     "metadata": {
      "needs_background": "light"
     },
     "output_type": "display_data"
    }
   ],
   "source": [
    "testing_data['predicted'] = pred\n",
    "fig, ax = plt.subplots()\n",
    "plt.xticks(rotation=90)\n",
    "sns.scatterplot(x=testing_data['timestamp'], y=testing_data['prices'], color='b', ax=ax)\n",
    "sns.scatterplot(x=testing_data['timestamp'], y=testing_data['predicted'], color='r', ax=ax.twinx()).set(yticklabels=[])\n",
    "plt.ylabel(None)\n",
    "plt.title('Actual ETH Price (Blue) vs Predicted Price (Red)')\n",
    "plt.show()"
   ]
  },
  {
   "cell_type": "markdown",
   "metadata": {},
   "source": [
    "## How often is the model correct?"
   ]
  },
  {
   "cell_type": "code",
   "execution_count": 26,
   "metadata": {},
   "outputs": [
    {
     "name": "stderr",
     "output_type": "stream",
     "text": [
      "/tmp/ipykernel_19150/846972990.py:1: SettingWithCopyWarning: \n",
      "A value is trying to be set on a copy of a slice from a DataFrame.\n",
      "Try using .loc[row_indexer,col_indexer] = value instead\n",
      "\n",
      "See the caveats in the documentation: https://pandas.pydata.org/pandas-docs/stable/user_guide/indexing.html#returning-a-view-versus-a-copy\n",
      "  testing_data['pred_diff'] = testing_data['predicted'] - testing_data['prices']\n",
      "/tmp/ipykernel_19150/846972990.py:18: SettingWithCopyWarning: \n",
      "A value is trying to be set on a copy of a slice from a DataFrame.\n",
      "Try using .loc[row_indexer,col_indexer] = value instead\n",
      "\n",
      "See the caveats in the documentation: https://pandas.pydata.org/pandas-docs/stable/user_guide/indexing.html#returning-a-view-versus-a-copy\n",
      "  testing_data['pred_increase'], testing_data['actual_increase'], testing_data['correct_pred_direction'] = zip(*testing_data.apply(evaluatePredictions, axis = 1))\n",
      "/tmp/ipykernel_19150/846972990.py:18: SettingWithCopyWarning: \n",
      "A value is trying to be set on a copy of a slice from a DataFrame.\n",
      "Try using .loc[row_indexer,col_indexer] = value instead\n",
      "\n",
      "See the caveats in the documentation: https://pandas.pydata.org/pandas-docs/stable/user_guide/indexing.html#returning-a-view-versus-a-copy\n",
      "  testing_data['pred_increase'], testing_data['actual_increase'], testing_data['correct_pred_direction'] = zip(*testing_data.apply(evaluatePredictions, axis = 1))\n",
      "/tmp/ipykernel_19150/846972990.py:18: SettingWithCopyWarning: \n",
      "A value is trying to be set on a copy of a slice from a DataFrame.\n",
      "Try using .loc[row_indexer,col_indexer] = value instead\n",
      "\n",
      "See the caveats in the documentation: https://pandas.pydata.org/pandas-docs/stable/user_guide/indexing.html#returning-a-view-versus-a-copy\n",
      "  testing_data['pred_increase'], testing_data['actual_increase'], testing_data['correct_pred_direction'] = zip(*testing_data.apply(evaluatePredictions, axis = 1))\n"
     ]
    }
   ],
   "source": [
    "testing_data['pred_diff'] = testing_data['predicted'] - testing_data['prices']\n",
    "def evaluatePredictions(r):\n",
    "    pred_increase = False\n",
    "    actual_increase = False\n",
    "    correct_pred_direction = False\n",
    "    if ((r['prev_price'] - r['predicted']) <= 0):\n",
    "        pred_increase = True\n",
    "    \n",
    "    if ((r['prev_price'] - r['prices']) <= 0):\n",
    "         actual_increase = True\n",
    "\n",
    "    if (pred_increase == actual_increase):\n",
    "         correct_pred_direction = True\n",
    "\n",
    "    return [pred_increase, actual_increase, correct_pred_direction]\n",
    "\n",
    "testing_data.apply(evaluatePredictions, axis = 1)\n",
    "testing_data['pred_increase'], testing_data['actual_increase'], testing_data['correct_pred_direction'] = zip(*testing_data.apply(evaluatePredictions, axis = 1))"
   ]
  },
  {
   "cell_type": "code",
   "execution_count": null,
   "metadata": {},
   "outputs": [],
   "source": []
  },
  {
   "cell_type": "code",
   "execution_count": 27,
   "metadata": {},
   "outputs": [
    {
     "name": "stdout",
     "output_type": "stream",
     "text": [
      "% of Predicted Increase (Hour to Hour\n",
      "True    1.0\n",
      "Name: pred_increase, dtype: float64\n",
      "\n",
      "% of Actual Increase (Hour to Hour)\n",
      "True     0.581395\n",
      "False    0.418605\n",
      "Name: actual_increase, dtype: float64\n",
      "\n",
      "% of Correctly Predicted Movement Directions (Hour to Hour)\n",
      "True     0.581395\n",
      "False    0.418605\n",
      "Name: correct_pred_direction, dtype: float64\n"
     ]
    }
   ],
   "source": [
    "print(r'% of Predicted Increase (Hour to Hour')\n",
    "print(testing_data['pred_increase'].value_counts(normalize=True))\n",
    "print()\n",
    "print(r'% of Actual Increase (Hour to Hour)')\n",
    "print(testing_data['actual_increase'].value_counts(normalize=True))\n",
    "print()\n",
    "print(r'% of Correctly Predicted Movement Directions (Hour to Hour)')\n",
    "print(testing_data['correct_pred_direction'].value_counts(normalize=True))"
   ]
  },
  {
   "cell_type": "markdown",
   "metadata": {},
   "source": [
    "## How right and wrong was the Model?"
   ]
  },
  {
   "cell_type": "code",
   "execution_count": 20,
   "metadata": {},
   "outputs": [
    {
     "data": {
      "text/plain": [
       "Text(0.5, 1.0, 'Difference between Actual and Predicted Price')"
      ]
     },
     "execution_count": 20,
     "metadata": {},
     "output_type": "execute_result"
    },
    {
     "data": {
      "image/png": "[encoded data removed]",
      "text/plain": [
       "<Figure size 432x288 with 1 Axes>"
      ]
     },
     "metadata": {
      "needs_background": "light"
     },
     "output_type": "display_data"
    }
   ],
   "source": [
    "priceDiffBar = sns.barplot(x=testing_data['timestamp'], y=testing_data['pred_diff'])\n",
    "priceDiffBar.set(xticklabels=[])\n",
    "plt.ylabel('None')\n",
    "plt.xlabel('USD')\n",
    "plt.title('Difference between Actual and Predicted Price')"
   ]
  },
  {
   "cell_type": "markdown",
   "metadata": {},
   "source": [
    "### Did the model make or lose more money when it was right or wrong?"
   ]
  },
  {
   "cell_type": "code",
   "execution_count": 9,
   "metadata": {},
   "outputs": [
    {
     "name": "stdout",
     "output_type": "stream",
     "text": [
      "The mean difference between the model and the actual price when the correct direction was predicted is 61.33905011094761\n",
      "The mean difference between the model and the actual price when the incorrect direction was predicted is 62.570829719264054\n"
     ]
    }
   ],
   "source": [
    "print('The mean difference between the model and the actual price when the correct direction was predicted is ' + str(testing_data[testing_data['correct_pred_direction'] == True]['pred_diff'].abs().mean()))\n",
    "\n",
    "print('The mean difference between the model and the actual price when the incorrect direction was predicted is ' + str(testing_data[testing_data['correct_pred_direction'] == False]['pred_diff'].abs().mean()))"
   ]
  }
 ],
 "metadata": {
  "celltoolbar": "Slideshow",
  "interpreter": {
   "hash": "d19efd6243dee88893852076371e00b8845cf2b5100777a4a7f70800077fb2e7"
  },
  "kernelspec": {
   "display_name": "Python 3 (ipykernel)",
   "language": "python",
   "name": "python3"
  },
  "language_info": {
   "codemirror_mode": {
    "name": "ipython",
    "version": 3
   },
   "file_extension": ".py",
   "mimetype": "text/x-python",
   "name": "python",
   "nbconvert_exporter": "python",
   "pygments_lexer": "ipython3",
   "version": "3.9.6"
  }
 },
 "nbformat": 4,
 "nbformat_minor": 2
}
