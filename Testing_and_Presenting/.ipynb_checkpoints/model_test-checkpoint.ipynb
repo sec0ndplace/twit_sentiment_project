{
 "cells": [
  {
   "cell_type": "markdown",
   "metadata": {
    "slideshow": {
     "slide_type": "slide"
    }
   },
   "source": [
    "## Create Model from Saved Data, Split into Test and Train"
   ]
  },
  {
   "cell_type": "code",
   "execution_count": 30,
   "metadata": {
    "slideshow": {
     "slide_type": "skip"
    }
   },
   "outputs": [],
   "source": [
    "import sys\n",
    "sys.path.append('../app/')\n",
    "\n",
    "import os\n",
    "import pandas as pd\n",
    "import preprocessor as prepro\n",
    "import matplotlib.pyplot as plt\n",
    "import seaborn as sns\n",
    "import numpy as np\n",
    "import joblib\n",
    "\n",
    "from dotenv import load_dotenv, find_dotenv\n",
    "from sklearn.model_selection import train_test_split\n",
    "from sklearn.metrics import confusion_matrix, classification_report\n",
    "\n",
    "from twitter import *\n",
    "from sentiment import *\n",
    "from model import *\n",
    "from db import *"
   ]
  },
  {
   "cell_type": "code",
   "execution_count": 188,
   "metadata": {
    "slideshow": {
     "slide_type": "-"
    }
   },
   "outputs": [
    {
     "data": {
      "text/plain": [
       "'success'"
      ]
     },
     "execution_count": 188,
     "metadata": {},
     "output_type": "execute_result"
    }
   ],
   "source": [
    "load_dotenv('../app/.env') #my env is untracked (has my tokens)\n",
    "pg_data = PG_Data()\n",
    "os.chdir('../app/')\n",
    "all_data = pg_data.get_all_data()\n",
    "#all_data = all_data.drop(['index', 'total_volumes'], axis=1)\n",
    "\n",
    "all_data['prev_price'] = all_data['prices'].shift(-1, axis = 0)\n",
    "all_data = all_data.dropna()\n",
    "\n",
    "training_data, testing_data = train_test_split(all_data, test_size=0.3)\n",
    "training_data.drop(['prices'], axis=1)\n",
    "create_and_pickle_model(training_data)"
   ]
  },
  {
   "cell_type": "markdown",
   "metadata": {
    "slideshow": {
     "slide_type": "slide"
    }
   },
   "source": [
    "## Predict for test data"
   ]
  },
  {
   "cell_type": "code",
   "execution_count": 189,
   "metadata": {},
   "outputs": [
    {
     "name": "stderr",
     "output_type": "stream",
     "text": [
      "/home/two/.pyenv/versions/3.9.6/lib/python3.9/site-packages/xgboost/data.py:262: FutureWarning: pandas.Int64Index is deprecated and will be removed from pandas in a future version. Use pandas.Index with the appropriate dtype instead.\n",
      "  elif isinstance(data.columns, (pd.Int64Index, pd.RangeIndex)):\n",
      "/home/two/.pyenv/versions/3.9.6/lib/python3.9/site-packages/xgboost/data.py:262: FutureWarning: pandas.Int64Index is deprecated and will be removed from pandas in a future version. Use pandas.Index with the appropriate dtype instead.\n",
      "  elif isinstance(data.columns, (pd.Int64Index, pd.RangeIndex)):\n",
      "/home/two/.pyenv/versions/3.9.6/lib/python3.9/site-packages/xgboost/data.py:262: FutureWarning: pandas.Int64Index is deprecated and will be removed from pandas in a future version. Use pandas.Index with the appropriate dtype instead.\n",
      "  elif isinstance(data.columns, (pd.Int64Index, pd.RangeIndex)):\n",
      "/home/two/.pyenv/versions/3.9.6/lib/python3.9/site-packages/xgboost/data.py:262: FutureWarning: pandas.Int64Index is deprecated and will be removed from pandas in a future version. Use pandas.Index with the appropriate dtype instead.\n",
      "  elif isinstance(data.columns, (pd.Int64Index, pd.RangeIndex)):\n",
      "/home/two/.pyenv/versions/3.9.6/lib/python3.9/site-packages/xgboost/data.py:262: FutureWarning: pandas.Int64Index is deprecated and will be removed from pandas in a future version. Use pandas.Index with the appropriate dtype instead.\n",
      "  elif isinstance(data.columns, (pd.Int64Index, pd.RangeIndex)):\n"
     ]
    },
    {
     "name": "stdout",
     "output_type": "stream",
     "text": [
      "[ 42.14276995  21.24560804  14.56934091  22.98425401 146.80855059]\n"
     ]
    }
   ],
   "source": [
    "from xgboost import XGBRegressor\n",
    "from sklearn.model_selection import cross_val_score\n",
    "\n",
    "X = all_data.drop(['prices', 'timestamp'], axis=1)\n",
    "y = all_data['prices']\n",
    "\n",
    "scores = cross_val_score(XGBRegressor(), X, y, scoring='neg_mean_squared_error')\n",
    "scores\n",
    "print((-scores)**0.5)\n"
   ]
  },
  {
   "cell_type": "code",
   "execution_count": 178,
   "metadata": {},
   "outputs": [
    {
     "name": "stderr",
     "output_type": "stream",
     "text": [
      "/home/two/.pyenv/versions/3.9.6/lib/python3.9/site-packages/xgboost/data.py:262: FutureWarning: pandas.Int64Index is deprecated and will be removed from pandas in a future version. Use pandas.Index with the appropriate dtype instead.\n",
      "  elif isinstance(data.columns, (pd.Int64Index, pd.RangeIndex)):\n"
     ]
    },
    {
     "data": {
      "text/plain": [
       "XGBRegressor(base_score=0.5, booster='gbtree', colsample_bylevel=1,\n",
       "             colsample_bynode=1, colsample_bytree=1, enable_categorical=False,\n",
       "             gamma=0, gpu_id=-1, importance_type=None,\n",
       "             interaction_constraints='', learning_rate=0.300000012,\n",
       "             max_delta_step=0, max_depth=6, min_child_weight=1, missing=nan,\n",
       "             monotone_constraints='()', n_estimators=100, n_jobs=8,\n",
       "             num_parallel_tree=1, predictor='auto', random_state=0, reg_alpha=0,\n",
       "             reg_lambda=1, scale_pos_weight=1, subsample=1, tree_method='exact',\n",
       "             validate_parameters=1, verbosity=None)"
      ]
     },
     "execution_count": 178,
     "metadata": {},
     "output_type": "execute_result"
    }
   ],
   "source": [
    "\n",
    "# X = training_data.drop(['prices', 'timestamp'], axis=1)\n",
    "# y = training_data['prices']\n",
    "# model = XGBRegressor()\n",
    "# model.fit(X,y)"
   ]
  },
  {
   "cell_type": "code",
   "execution_count": 190,
   "metadata": {},
   "outputs": [],
   "source": [
    "model = joblib.load('../app/TwitSentModel_jlib')\n",
    "y = testing_data['prices']\n",
    "predictme = testing_data.drop(['prices', 'timestamp'], axis = 1)\n",
    "pred = model.predict(predictme)"
   ]
  },
  {
   "cell_type": "markdown",
   "metadata": {},
   "source": [
    "## Plot Feature importance\n"
   ]
  },
  {
   "cell_type": "code",
   "execution_count": 191,
   "metadata": {},
   "outputs": [
    {
     "data": {
      "text/plain": [
       "Text(0, 0.5, 'Features')"
      ]
     },
     "execution_count": 191,
     "metadata": {},
     "output_type": "execute_result"
    },
    {
     "data": {
      "image/png": "[encoded data removed]",
      "text/plain": [
       "<Figure size 720x576 with 1 Axes>"
      ]
     },
     "metadata": {
      "needs_background": "light"
     },
     "output_type": "display_data"
    }
   ],
   "source": [
    "# source for plot code : https://www.analyseup.com/learn-python-for-data-science/python-random-forest-feature-importance-plot.html\n",
    "\n",
    "#This feature importance is kind of garbage - probably because my model is garbage\n",
    "\n",
    "#Create arrays from feature importance and feature names\n",
    "feature_importance = np.array(model.feature_importances_)\n",
    "feature_names = np.array(predictme.columns)\n",
    "\n",
    "#Create a DataFrame using a Dictionary\n",
    "data={'feature_names':feature_names,'feature_importance':feature_importance}\n",
    "fi_df = pd.DataFrame(data)\n",
    "\n",
    "#Sort the DataFrame in order decreasing feature importance\n",
    "fi_df.sort_values(by=['feature_importance'], ascending=False,inplace=True)\n",
    "\n",
    "#Define size of bar plot\n",
    "plt.figure(figsize=(10,8))\n",
    "#Plot Searborn bar chart\n",
    "sns.barplot(x=fi_df['feature_importance'], y=fi_df['feature_names'])\n",
    "#Add chart labels\n",
    "plt.title('Feature Importance')\n",
    "plt.xlabel('Feature Importance')\n",
    "plt.ylabel('Features')"
   ]
  },
  {
   "cell_type": "markdown",
   "metadata": {},
   "source": [
    "## Plot yhat and y"
   ]
  },
  {
   "cell_type": "code",
   "execution_count": 192,
   "metadata": {},
   "outputs": [
    {
     "data": {
      "image/png": "[encoded data removed]",
      "text/plain": [
       "<Figure size 432x288 with 2 Axes>"
      ]
     },
     "metadata": {
      "needs_background": "light"
     },
     "output_type": "display_data"
    }
   ],
   "source": [
    "testing_data['predicted'] = pred\n",
    "fig, ax = plt.subplots()\n",
    "plt.xticks(rotation=90)\n",
    "sns.scatterplot(x=testing_data['timestamp'], y=testing_data['prices'], color='b', ax=ax)\n",
    "sns.scatterplot(x=testing_data['timestamp'], y=testing_data['predicted'], color='r', ax=ax.twinx()).set(yticklabels=[])\n",
    "plt.ylabel(None)\n",
    "plt.title('Actual ETH Price (Blue) vs Predicted Price (Red)')\n",
    "plt.show()"
   ]
  },
  {
   "cell_type": "markdown",
   "metadata": {},
   "source": [
    "## How often is the model correct?"
   ]
  },
  {
   "cell_type": "code",
   "execution_count": 193,
   "metadata": {},
   "outputs": [],
   "source": [
    "testing_data['pred_diff'] = testing_data['predicted'] - testing_data['prices']\n",
    "def evaluatePredictions(r):\n",
    "    pred_increase = False\n",
    "    actual_increase = False\n",
    "    correct_pred_direction = False\n",
    "    if ((r['prev_price'] - r['predicted']) <= 0):\n",
    "        pred_increase = True\n",
    "    \n",
    "    if ((r['prev_price'] - r['prices']) <= 0):\n",
    "         actual_increase = True\n",
    "\n",
    "    if (pred_increase == actual_increase):\n",
    "         correct_pred_direction = True\n",
    "\n",
    "    return [pred_increase, actual_increase, correct_pred_direction]\n",
    "\n",
    "testing_data.apply(evaluatePredictions, axis = 1)\n",
    "testing_data['pred_increase'], testing_data['actual_increase'], testing_data['correct_pred_direction'] = zip(*testing_data.apply(evaluatePredictions, axis = 1))"
   ]
  },
  {
   "cell_type": "code",
   "execution_count": 194,
   "metadata": {},
   "outputs": [
    {
     "name": "stdout",
     "output_type": "stream",
     "text": [
      "False    0.568182\n",
      "True     0.431818\n",
      "Name: pred_increase, dtype: float64\n",
      "True     0.636364\n",
      "False    0.363636\n",
      "Name: actual_increase, dtype: float64\n",
      "True     0.659091\n",
      "False    0.340909\n",
      "Name: correct_pred_direction, dtype: float64\n"
     ]
    }
   ],
   "source": [
    "print(testing_data['pred_increase'].value_counts(normalize=True))\n",
    "print(testing_data['actual_increase'].value_counts(normalize=True))\n",
    "print(testing_data['correct_pred_direction'].value_counts(normalize=True))"
   ]
  },
  {
   "cell_type": "markdown",
   "metadata": {},
   "source": [
    "## How right and wrong was the Model?"
   ]
  },
  {
   "cell_type": "code",
   "execution_count": 195,
   "metadata": {},
   "outputs": [
    {
     "data": {
      "text/plain": [
       "Text(0.5, 1.0, 'Difference between Actual and Predicted Price')"
      ]
     },
     "execution_count": 195,
     "metadata": {},
     "output_type": "execute_result"
    },
    {
     "data": {
      "image/png": "[encoded data removed]",
      "text/plain": [
       "<Figure size 432x288 with 1 Axes>"
      ]
     },
     "metadata": {
      "needs_background": "light"
     },
     "output_type": "display_data"
    }
   ],
   "source": [
    "priceDiffBar = sns.barplot(x=testing_data['timestamp'], y=testing_data['pred_diff'])\n",
    "priceDiffBar.set(xticklabels=[])\n",
    "plt.ylabel('None')\n",
    "plt.xlabel('USD')\n",
    "plt.title('Difference between Actual and Predicted Price')"
   ]
  },
  {
   "cell_type": "markdown",
   "metadata": {},
   "source": [
    "### Did the model make or lose more money one way or the other?"
   ]
  },
  {
   "cell_type": "code",
   "execution_count": 196,
   "metadata": {},
   "outputs": [
    {
     "name": "stdout",
     "output_type": "stream",
     "text": [
      "The mean difference between the model and the actual price when the correct direction was predicted is 8.371931175214991\n",
      "The mean difference between the model and the actual price when the incorrect direction was predicted is 16.253296465402066\n"
     ]
    }
   ],
   "source": [
    "print('The mean difference between the model and the actual price when the correct direction was predicted is ' + str(testing_data[testing_data['correct_pred_direction'] == True]['pred_diff'].abs().mean()))\n",
    "\n",
    "print('The mean difference between the model and the actual price when the incorrect direction was predicted is ' + str(testing_data[testing_data['correct_pred_direction'] == False]['pred_diff'].abs().mean()))"
   ]
  }
 ],
 "metadata": {
  "celltoolbar": "Slideshow",
  "interpreter": {
   "hash": "d19efd6243dee88893852076371e00b8845cf2b5100777a4a7f70800077fb2e7"
  },
  "kernelspec": {
   "display_name": "Python 3 (ipykernel)",
   "language": "python",
   "name": "python3"
  },
  "language_info": {
   "codemirror_mode": {
    "name": "ipython",
    "version": 3
   },
   "file_extension": ".py",
   "mimetype": "text/x-python",
   "name": "python",
   "nbconvert_exporter": "python",
   "pygments_lexer": "ipython3",
   "version": "3.9.6"
  }
 },
 "nbformat": 4,
 "nbformat_minor": 2
}
